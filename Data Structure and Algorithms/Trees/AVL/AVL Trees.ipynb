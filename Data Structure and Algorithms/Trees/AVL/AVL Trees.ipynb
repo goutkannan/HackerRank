{
 "cells": [
  {
   "cell_type": "markdown",
   "metadata": {},
   "source": [
    "## AVL Trees \n",
    "\n",
    "Self balancing binary search trees. In breif, difference in height of left sub-tree and right sub-tree must be <b> 1 or less </b>.\n",
    "<br>This property solves the problem of the worst case complexities of unbalanced Binary Search Trees. \n",
    "\n",
    "Examples of  a valid AVL Tree and a invalid AVL Treee\n",
    "\n",
    "                10 h(2,1)     \n",
    "               / \\     \n",
    "       h(1,1) 5   13 h(0,0)    AVL Tree    \n",
    "             / \\       \n",
    "            3   6\n",
    "            \n",
    "            \n",
    "                10 h(3,1)      \n",
    "               / \\     \n",
    "      X h(2,0)5   13 h(0,0)   Not a AVL Tree    \n",
    "             /        \n",
    "      h(1,0)4\n",
    "           /\n",
    "          3\n",
    "          \n",
    "#### Advantages of AVL Trees \n",
    "<ul>\n",
    "    <li> All BST operations like search, max, min, insert, delete take O(height of BST time). Keeping the height bounded makes sure that the height remains logn \n",
    "    </li>\n",
    "</ul>\n",
    "\n",
    "\n"
   ]
  },
  {
   "cell_type": "markdown",
   "metadata": {},
   "source": [
    "#### Insertion \n",
    "\n",
    "Find the place for insertion simillar to that of BST. Insert the new node and then balance the tree, so that the diff in height remains under 1. \n",
    "\n",
    "<b> There are 4 possible arrangements </b>\n",
    "\n",
    "##### 1.Left Left\n",
    "\n",
    "          15                                      10 \n",
    "         /  \\                                   /    \\\n",
    "        10   17       Left Left                7      15\n",
    "       / \\          - - - - - - - - ->        / \\    /   \\ \n",
    "      7   12          Rotate at 15           6   9   12   17\n",
    "     / \\\n",
    "    6   9\n",
    "\n",
    "The first unbalanced node is 15 h(3,1) [from left side] next at 10 h(2,1) [from left side] --> <b> Left Left Case </b> \n",
    "\n",
    "##### 2.Left Right \n",
    "\n",
    "           15                                 15                                    10\n",
    "          /  \\                               /  \\                                 /    \\ \n",
    "         8   17    Left Rotate (8)          10   17     Right Rotate(15)         8       15\n",
    "        / \\       - - - - - - - - ->       / \\           - - - - - - ->         / \\     /  \\\n",
    "       7   10                             8   12                               7   9  12    17 \n",
    "          /  \\                           / \\                                  \n",
    "         9   12                         7   9 \n",
    "         \n",
    "\n",
    "\n",
    "##### 2.Right Right \n",
    "\n",
    "           8                                  10\n",
    "         /   \\                              /    \\ \n",
    "        7     10      Left Rotate(8)       8      15\n",
    "             /  \\    - - - - - - - ->     / \\     / \\\n",
    "            9    15                      7   9   12  17\n",
    "                /  \\\n",
    "               12  17 \n",
    "               \n",
    "               \n",
    "##### 2.Right Left\n",
    "\n",
    "           5                                  5                                     9\n",
    "         /   \\                              /   \\                                 /   \\\n",
    "        4     15      Right Rotate(15)     4     9      Left Rotate(5)           5     15 \n",
    "             /  \\    - - - - - - - ->           / \\     - - - - - - - ->        / \\    / \\\n",
    "            9    17                            8   15                          4   8  10  17\n",
    "           / \\                                     / \\\n",
    "          8  10                                   10  17\n",
    "\n",
    "                                                                    \n"
   ]
  },
  {
   "cell_type": "markdown",
   "metadata": {},
   "source": [
    "### Implementation \n",
    "\n",
    "Node that forms a AVL Tree is simillar to that of BST with an additional member to height(saves time). \n",
    "\n"
   ]
  },
  {
   "cell_type": "code",
   "execution_count": 8,
   "metadata": {
    "collapsed": true
   },
   "outputs": [],
   "source": [
    "class AVLTree:\n",
    "        \"\"\" Building block of AVL Tree \"\"\"\n",
    "        def __init__(self,data= None):\n",
    "            \"\"\" Constructor for creating new node\"\"\"\n",
    "            self.data = data\n",
    "            self.left = None\n",
    "            self.right = None\n",
    "            self.height = 0        \n",
    "    "
   ]
  },
  {
   "cell_type": "code",
   "execution_count": 9,
   "metadata": {
    "collapsed": true
   },
   "outputs": [],
   "source": [
    "def inorder(root):\n",
    "    \"\"\"Utility function to print the tree traversal in sorted order to visualize BST \"\"\"\n",
    "    if root:\n",
    "        inorder(root.left)\n",
    "        print(root.data)\n",
    "        inorder(root.right)"
   ]
  },
  {
   "cell_type": "code",
   "execution_count": 10,
   "metadata": {
    "collapsed": true
   },
   "outputs": [],
   "source": [
    "def diff_height(root):\n",
    "    \"\"\" Difference in heights of left sub-trees and right sub-trees  \"\"\"\n",
    "    return root.left.height - root.right.height"
   ]
  },
  {
   "cell_type": "code",
   "execution_count": 11,
   "metadata": {
    "collapsed": true
   },
   "outputs": [],
   "source": [
    "def right_rotate(root):\n",
    "    \"\"\"\n",
    "     The left child of the root becomes the new root, \n",
    "     save the prev right child and make it the left child of the old root\n",
    "                old_root                                  new_root\n",
    "       new_root           right      =========>      cleft        old_root   \n",
    "    cleft    cright                                           cright    right  \n",
    "    \"\"\"\n",
    "\n",
    "    y = root.left \n",
    "    temp_x = y.right\n",
    "\n",
    "    y.right = root\n",
    "    root.left = temp_x\n",
    "\n",
    "    root.height = max(root.left.height, root.right.height) + 1\n",
    "    y.height = max(y.left.height, y.right.height) + 1\n",
    "\n",
    "    return y"
   ]
  },
  {
   "cell_type": "code",
   "execution_count": 12,
   "metadata": {
    "collapsed": true
   },
   "outputs": [],
   "source": [
    "def left_rotate(root):\n",
    "    \"\"\"\n",
    "    The right child of the current root becomes the new root and\n",
    "    its left child becomes the right child of the old root. \n",
    "            old_root                                new_root\n",
    "        cleft     new_root        ====>     old_root        ccright\n",
    "                ccleft  ccright          cleft     ccleft\n",
    "\n",
    "    \"\"\"\n",
    "    y = root.right\n",
    "    temp_x = y.left  \n",
    "\n",
    "    root.right = temp_x\n",
    "    y.left = root\n",
    "\n",
    "    root.height = max(root.left.height, root.right.height) + 1\n",
    "    y.height = max(y.left.height, y.right.height) + 1\n",
    "\n",
    "    return y "
   ]
  },
  {
   "cell_type": "markdown",
   "metadata": {},
   "source": [
    "### Insert a Node\n",
    "\n",
    "Use binary search to find the location for insertion after insertion the tree has to be balanced. \n",
    "There 4 cases of balancing are:\n",
    "\n",
    "1. When  `height of left sub-tree - height of right sub-tree > 1 and  new key is in left side of the tree.` <br>\n",
    "      Do a `right rotation`. \n",
    "\n",
    "2. When  `height of left sub-tree - height of right sub-tree < -1 and  new key is in right side of the tree.`<br>\n",
    "      Do a `left rotation`. \n",
    "    \n",
    "3. When  `height of left sub-tree - height of right sub-tree > 1 and  new key is in right side of the tree.` <br>\n",
    "      Do a `right rotation followed by left rotation`. \n",
    "\n",
    "4. When  `height of left sub-tree - height of right sub-tree < -1 and  new key is in left side of the tree.` <br>\n",
    "      Do a `left rotation followed by right rotation`. \n",
    "    "
   ]
  },
  {
   "cell_type": "code",
   "execution_count": 13,
   "metadata": {
    "collapsed": true
   },
   "outputs": [],
   "source": [
    "def insert(root,value):\n",
    "    \"\"\" Do a binary search and insert the new node \"\"\" \n",
    "    if root is None:\n",
    "        root = AVLTree(value)\n",
    "    if root.data > value:\n",
    "        root.left = insert(root.left,value)\n",
    "    else:\n",
    "        root.left = insert(root.right,value)\n",
    "\n",
    "    root.height =  1 + max(root.left,root.right)\n",
    "    difference = diff_height(root)\n",
    "\n",
    "    if difference > 1 and value < root.left.data:\n",
    "        return right_rotate(root)\n",
    "\n",
    "    if difference < -1 and value > root.right.data:\n",
    "        return left_rotate(root)\n",
    "\n",
    "    if difference > 1 and value > root.left.data: \n",
    "        root.left = left_rotate(root.left)\n",
    "        return right_rotate(root)\n",
    "\n",
    "    if difference < -1 and value < root.right.data:\n",
    "        root.right = right_rotate(root.right)\n",
    "        return left_rotate(root)\n",
    "\n",
    "    return root"
   ]
  },
  {
   "cell_type": "code",
   "execution_count": 1,
   "metadata": {
    "collapsed": true
   },
   "outputs": [],
   "source": [
    "def min_node(root): \n",
    "    curr = root\n",
    "    if curr:         \n",
    "        while(curr.next):\n",
    "            curr = curr.next\n",
    "    \n",
    "    return curr "
   ]
  },
  {
   "cell_type": "markdown",
   "metadata": {},
   "source": [
    "### Delete a Node\n",
    "\n",
    "Do a binary search to find the node to be deleted, replace it with its inorder sucessor i.e. left most node of its right sub-tree and then rebalnce the tree. "
   ]
  },
  {
   "cell_type": "code",
   "execution_count": 2,
   "metadata": {
    "collapsed": true
   },
   "outputs": [],
   "source": [
    "def delete_node(root, key):\n",
    "    if root is None:\n",
    "        return root\n",
    "    \n",
    "    if key < root.data:\n",
    "        root.left = delete_node(root.left, key)\n",
    "    elif key > root.data:\n",
    "        root.right = delete_node(root.right, key)\n",
    "    else:\n",
    "        if root.left is None or root.right is None:\n",
    "            temp = None\n",
    "            if root.left is None:\n",
    "                temp = root.right\n",
    "            else:\n",
    "                temp = root.left\n",
    "            \n",
    "            if temp:\n",
    "                root = temp\n",
    "            else:\n",
    "                temp = root\n",
    "                root = None\n",
    "        else:\n",
    "            temp = min_node(root.right)\n",
    "            root.data = temp.data \n",
    "            root.right = delete_node(root.right, temp.data)\n",
    "    \n",
    "    if root is None:\n",
    "        return root \n",
    "    \n",
    "    root.height =  1 + max(root.left,root.right)\n",
    "    difference = diff_height(root)\n",
    "\n",
    "    if difference > 1 and value < root.left.data:\n",
    "        return right_rotate(root)\n",
    "\n",
    "    if difference < -1 and value > root.right.data:\n",
    "        return left_rotate(root)\n",
    "\n",
    "    if difference > 1 and value > root.left.data: \n",
    "        root.left = left_rotate(root.left)\n",
    "        return right_rotate(root)\n",
    "\n",
    "    if difference < -1 and value < root.right.data:\n",
    "        root.right = right_rotate(root.right)\n",
    "        return left_rotate(root)\n",
    "\n",
    "    return root       "
   ]
  },
  {
   "cell_type": "code",
   "execution_count": null,
   "metadata": {
    "collapsed": true
   },
   "outputs": [],
   "source": []
  }
 ],
 "metadata": {
  "kernelspec": {
   "display_name": "Python 3",
   "language": "python",
   "name": "python3"
  },
  "language_info": {
   "codemirror_mode": {
    "name": "ipython",
    "version": 3
   },
   "file_extension": ".py",
   "mimetype": "text/x-python",
   "name": "python",
   "nbconvert_exporter": "python",
   "pygments_lexer": "ipython3",
   "version": "3.6.1"
  }
 },
 "nbformat": 4,
 "nbformat_minor": 2
}
