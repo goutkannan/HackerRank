{
 "cells": [
  {
   "cell_type": "markdown",
   "metadata": {},
   "source": [
    "# It is OOPS time"
   ]
  },
  {
   "cell_type": "code",
   "execution_count": 42,
   "metadata": {
    "collapsed": true
   },
   "outputs": [],
   "source": [
    "class Car(object):\n",
    "    num_cars=0\n",
    "    \n",
    "    def __init__(self, *args): #constructor with list of arguments\n",
    "        self.vin = args[0]\n",
    "        self.make = args[1]\n",
    "        self.model = args[2]\n",
    "        self.year = args[3]\n",
    "        #Class Variable has to be scoped with the class name\n",
    "        Car.num_cars += 1 \n",
    "    \n",
    "    def __private(self):\n",
    "        \"\"\"\n",
    "        Private method accessible within the class only.\n",
    "        \"\"\"\n",
    "        if self.year < 2000:\n",
    "            print(\"Too old\")\n",
    "        else:\n",
    "            print(\"Not that old\")\n",
    "            \n",
    "    def check_age(self):\n",
    "        \"\"\"\n",
    "        Utility member to class private member.\n",
    "        Fact: All members are virtual by default in python\n",
    "        \"\"\"\n",
    "        self.__private()\n",
    "    \n",
    "    def class_method(cls=None):        \n",
    "        print(\"No clue about {}\".format(cls))\n",
    "    \n",
    "    def __repr__(self):\n",
    "        return \" We have {} cars registered\".format(Car.num_cars)"
   ]
  },
  {
   "cell_type": "code",
   "execution_count": 27,
   "metadata": {
    "collapsed": false
   },
   "outputs": [],
   "source": [
    "car1 = Car(\"xcdf12\", \"Honda\", \"Accord\", 2013)\n",
    "car2 = Car(\"xcdf12\", \"Honda\", \"Civic\", 2010)"
   ]
  },
  {
   "cell_type": "code",
   "execution_count": 34,
   "metadata": {
    "collapsed": false
   },
   "outputs": [
    {
     "name": "stdout",
     "output_type": "stream",
     "text": [
      "Honda - Accord\n"
     ]
    }
   ],
   "source": [
    "# Accessing Instance methods\n",
    "print(\"{} - {}\".format(car1.make, car1.model))"
   ]
  },
  {
   "cell_type": "code",
   "execution_count": 35,
   "metadata": {
    "collapsed": false
   },
   "outputs": [
    {
     "name": "stdout",
     "output_type": "stream",
     "text": [
      "Not that old\n"
     ]
    }
   ],
   "source": [
    "car1.check_age()\n"
   ]
  },
  {
   "cell_type": "code",
   "execution_count": 44,
   "metadata": {
    "collapsed": false
   },
   "outputs": [
    {
     "name": "stdout",
     "output_type": "stream",
     "text": [
      "No clue about None\n",
      "No clue about None\n"
     ]
    },
    {
     "data": {
      "text/plain": [
       "True"
      ]
     },
     "execution_count": 44,
     "metadata": {},
     "output_type": "execute_result"
    }
   ],
   "source": [
    "Car.class_method() is  Car.class_method()"
   ]
  },
  {
   "cell_type": "code",
   "execution_count": 45,
   "metadata": {
    "collapsed": true
   },
   "outputs": [],
   "source": [
    "import itertools"
   ]
  },
  {
   "cell_type": "code",
   "execution_count": 72,
   "metadata": {
    "collapsed": false
   },
   "outputs": [
    {
     "data": {
      "text/plain": [
       "{(-2, -1, 1),\n",
       " (-2, 1, 3),\n",
       " (-2, 3, 5),\n",
       " (-1, 3, 4),\n",
       " (-1, 4, 5),\n",
       " (1, 3, 4),\n",
       " (1, 4, 5)}"
      ]
     },
     "execution_count": 72,
     "metadata": {},
     "output_type": "execute_result"
    }
   ],
   "source": [
    "set([tuple((sorted(x))) for x in itertools.permutations([1, 4, -1, -2, 5, 3], 3) if x[0] + x[1] == x[2]])\n",
    "    "
   ]
  },
  {
   "cell_type": "code",
   "execution_count": 73,
   "metadata": {
    "collapsed": false
   },
   "outputs": [
    {
     "data": {
      "text/plain": [
       "{(-2, 3, 5), (-1, 3, 4), (1, 4, 5)}"
      ]
     },
     "execution_count": 73,
     "metadata": {},
     "output_type": "execute_result"
    }
   ],
   "source": [
    "set([tuple((sorted(x))) for x in itertools.combinations([1, 4, -1, -2, 5, 3], 3) if x[0] + x[1] == x[2]])"
   ]
  },
  {
   "cell_type": "code",
   "execution_count": 83,
   "metadata": {
    "collapsed": false
   },
   "outputs": [
    {
     "data": {
      "text/plain": [
       "(97, 122)"
      ]
     },
     "execution_count": 83,
     "metadata": {},
     "output_type": "execute_result"
    }
   ],
   "source": [
    "ord(\"a\"), ord(\"z\")"
   ]
  },
  {
   "cell_type": "code",
   "execution_count": 84,
   "metadata": {
    "collapsed": false
   },
   "outputs": [
    {
     "data": {
      "text/plain": [
       "(65, 90)"
      ]
     },
     "execution_count": 84,
     "metadata": {},
     "output_type": "execute_result"
    }
   ],
   "source": [
    "ord(\"A\"), ord(\"Z\") "
   ]
  },
  {
   "cell_type": "code",
   "execution_count": 89,
   "metadata": {
    "collapsed": false
   },
   "outputs": [
    {
     "data": {
      "text/plain": [
       "'z'"
      ]
     },
     "execution_count": 89,
     "metadata": {},
     "output_type": "execute_result"
    }
   ],
   "source": [
    "chr(ord(\"Z\") + 32)"
   ]
  },
  {
   "cell_type": "code",
   "execution_count": 90,
   "metadata": {
    "collapsed": false
   },
   "outputs": [
    {
     "data": {
      "text/plain": [
       "'Z'"
      ]
     },
     "execution_count": 90,
     "metadata": {},
     "output_type": "execute_result"
    }
   ],
   "source": [
    "chr(ord(\"z\") - 32)"
   ]
  },
  {
   "cell_type": "code",
   "execution_count": 98,
   "metadata": {
    "collapsed": false
   },
   "outputs": [],
   "source": [
    "def swap_case(s):\n",
    "    res = []\n",
    "    for char in s:\n",
    "        if ord(char) <= 90 and ord(char) >= 65:\n",
    "          res.append(chr(ord(char) + 32))\n",
    "        elif ord(char) <= 122 and ord(char) >= 97:\n",
    "          res.append(chr(ord(char) - 32))\n",
    "        else:\n",
    "            res.append(char)\n",
    "\n",
    "    \n",
    "    return \"\".join(res)"
   ]
  },
  {
   "cell_type": "code",
   "execution_count": 99,
   "metadata": {
    "collapsed": false
   },
   "outputs": [
    {
     "data": {
      "text/plain": [
       "'wWW.gOUTHAM.com'"
      ]
     },
     "execution_count": 99,
     "metadata": {},
     "output_type": "execute_result"
    }
   ],
   "source": [
    "swap_case(\"Www.Goutham.COM\")"
   ]
  },
  {
   "cell_type": "code",
   "execution_count": 105,
   "metadata": {
    "collapsed": true
   },
   "outputs": [],
   "source": [
    "from itertools import combinations, chain"
   ]
  },
  {
   "cell_type": "code",
   "execution_count": 106,
   "metadata": {
    "collapsed": true
   },
   "outputs": [],
   "source": [
    "s = \"HACK\"\n",
    "size = 2"
   ]
  },
  {
   "cell_type": "code",
   "execution_count": 111,
   "metadata": {
    "collapsed": false
   },
   "outputs": [
    {
     "data": {
      "text/plain": [
       "['H', 'A', 'C', 'K', 'HA', 'HC', 'HK', 'AC', 'AK', 'CK']"
      ]
     },
     "execution_count": 111,
     "metadata": {},
     "output_type": "execute_result"
    }
   ],
   "source": [
    "[\"\".join(x) ]"
   ]
  },
  {
   "cell_type": "code",
   "execution_count": null,
   "metadata": {
    "collapsed": true
   },
   "outputs": [],
   "source": []
  }
 ],
 "metadata": {
  "anaconda-cloud": {},
  "kernelspec": {
   "display_name": "Python 3",
   "language": "python",
   "name": "python3"
  },
  "language_info": {
   "codemirror_mode": {
    "name": "ipython",
    "version": 3
   },
   "file_extension": ".py",
   "mimetype": "text/x-python",
   "name": "python",
   "nbconvert_exporter": "python",
   "pygments_lexer": "ipython3",
   "version": "3.5.2"
  }
 },
 "nbformat": 4,
 "nbformat_minor": 1
}
